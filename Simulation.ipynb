{
 "cells": [
  {
   "cell_type": "code",
   "execution_count": null,
   "metadata": {},
   "outputs": [],
   "source": [
    "# Importing Packages\n",
    "import matplotlib.pyplot as plt\n",
    "import random\n",
    "import numpy as np"
   ]
  },
  {
   "cell_type": "code",
   "execution_count": null,
   "metadata": {},
   "outputs": [],
   "source": [
    "# Rarity Tier Probability of the Item\n",
    "item_rarities = {\n",
    "    'Navy Blue (Rare)': 0.7992,\n",
    "    'Purple (Mythical)': 0.1598,\n",
    "    'Hot Pink (Legendary)': 0.032,\n",
    "    'Red (Ancient)': 0.0064,\n",
    "    'Gold (Exceedingly Rare)': 0.0026\n",
    "}\n",
    "\n",
    "# Items in each rarity tier of the Killowatt Case\n",
    "rare_items = ['Hideout', 'Light Box', 'Dark Sigil', 'Dezastre', 'Slag', 'Motorized', 'Irezumi']\n",
    "mythical_items = ['Block-18', 'Etch Lord', 'Hybrid', 'Just Smile', 'Analog Input']\n",
    "legendary_items = ['black lotus', 'Olympus', 'Jawbreaker']\n",
    "ancient_items = ['Chrome Cannon', 'Inheritance']\n",
    "exceedingly_rare_items = ['Kukri Knife']\n",
    "\n",
    "# Wear conditions probabilities of items\n",
    "wear_condition_probs = [0.07, 0.08, 0.22, 0.07, 0.56]  # Factory New, Minimal Wear, Field-Tested, Well-Worn, Battle-Scarred\n",
    "\n",
    "# StatTrak probability for all items\n",
    "stattrak_prob = 0.09826\n",
    "\n",
    "# Create a list of item rarities and their probabilities\n",
    "items = list(item_rarities.keys())\n",
    "probabilities = list(item_rarities.values())\n",
    "\n",
    "\n",
    "# Function to open a box and return the item with wear condition and StatTrak status\n",
    "def open_box():\n",
    "    rarity = np.random.choice(items, p=probabilities)\n",
    "    if rarity == 'Navy Blue (Rare)':\n",
    "        item = random.choice(rare_items)\n",
    "    elif rarity == 'Purple (Mythical)':\n",
    "        item = random.choice(mythical_items)\n",
    "    elif rarity == 'Hot Pink (Legendary)':\n",
    "        item = random.choice(legendary_items)\n",
    "    elif rarity == 'Red (Ancient)':\n",
    "        item = random.choice(ancient_items)\n",
    "    else:\n",
    "        item = random.choice(exceedingly_rare_items)\n",
    "\n",
    "    is_stattrak = np.random.choice([True, False], p=[stattrak_prob, 1 - stattrak_prob])\n",
    "    wear_condition = np.random.choice(['Factory New', 'Minimal Wear', 'Field-Tested', 'Well-Worn', 'Battle-Scarred'], p=wear_condition_probs)\n",
    "\n",
    "    return item, is_stattrak, wear_condition\n",
    "\n",
    "# Keep opening boxes until a 'Kukuri Knife' item is obtained\n",
    "attempts = 0\n",
    "while True:\n",
    "    obtained_item, is_stattrak, wear_condition = open_box()\n",
    "    attempts += 1\n",
    "    stattrak_text = 'StatTrak™' if is_stattrak else ''\n",
    "    print(f\"Attempt {attempts}: You got a {stattrak_text} {obtained_item} item with {wear_condition} wear condition!\")\n",
    "    if obtained_item == 'Kukuri Knife':\n",
    "        break\n",
    "\n",
    "print(f\"Congratulations! You got the {stattrak_text} 'Kukuri Knife' item with {wear_condition} wear condition after {attempts} attempts!\")"
   ]
  },
  {
   "cell_type": "code",
   "execution_count": null,
   "metadata": {},
   "outputs": [],
   "source": [
    "# Inputs\n",
    "num_simulations = 10000\n",
    "max_num_rolls = 1000\n",
    "bet = 1\n",
    "\n",
    "case_1_DN = 54\n",
    "key_cost = 150\n",
    "\n",
    "# Tracking\n",
    "win_probability = []\n",
    "end_balance = []"
   ]
  },
  {
   "cell_type": "code",
   "execution_count": null,
   "metadata": {},
   "outputs": [],
   "source": [
    "# Creating Figure for Simulation Balances\n",
    "fig = plt.figure()\n",
    "plt.title(\"Monte Carlo Dice Game [\" + str(num_simulations) + \" simulations]\")\n",
    "plt.xlabel(\"Roll Number\")\n",
    "plt.ylabel(\"Balance [$]\")\n",
    "plt.xlim([0, max_num_rolls])"
   ]
  },
  {
   "cell_type": "code",
   "execution_count": null,
   "metadata": {},
   "outputs": [],
   "source": [
    "# For loop to run for the number of simulations desired\n",
    "for i in range(num_simulations):\n",
    "    balance = [1000]\n",
    "    num_rolls = [0]\n",
    "    num_wins = 0\n",
    "    # Run until the player has rolled 1,000 times\n",
    "    while num_rolls[-1] < max_num_rolls:\n",
    "        same = roll_dice()\n",
    "        # Result if the dice are the same number\n",
    "        if same:\n",
    "            balance.append(balance[-1] + 4 * bet)\n",
    "            num_wins += 1\n",
    "        # Result if the dice are different numbers\n",
    "        else:\n",
    "            balance.append(balance[-1] - bet)\n",
    "\n",
    "        num_rolls.append(num_rolls[-1] + 1)\n",
    "# Store tracking variables and add line to figure\n",
    "    win_probability.append(num_wins/num_rolls[-1])\n",
    "    end_balance.append(balance[-1])\n",
    "    plt.plot(num_rolls, balance)"
   ]
  },
  {
   "cell_type": "code",
   "execution_count": null,
   "metadata": {},
   "outputs": [],
   "source": [
    "# Showing the plot after the simulations are finished\n",
    "plt.show()\n",
    "\n",
    "# Averaging win probability and end balance\n",
    "overall_win_probability = sum(win_probability)/len(win_probability)\n",
    "overall_end_balance = sum(end_balance)/len(end_balance)\n",
    "# Displaying the averages\n",
    "print(\"Average win probability after \" + str(num_simulations) + \" runs: \" + str(overall_win_probability))\n",
    "print(\"Average ending balance after \" + str(num_simulations) + \"  runs: $\" + str(overall_end_balance))"
   ]
  }
 ],
 "metadata": {
  "language_info": {
   "name": "python"
  }
 },
 "nbformat": 4,
 "nbformat_minor": 2
}
